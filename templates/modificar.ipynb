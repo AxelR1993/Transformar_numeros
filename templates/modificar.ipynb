{
 "cells": [
  {
   "cell_type": "code",
   "execution_count": 65,
   "metadata": {},
   "outputs": [
    {
     "name": "stdout",
     "output_type": "stream",
     "text": [
      "Cargando...\n"
     ]
    },
    {
     "data": {
      "text/html": [
       "<div>\n",
       "<style scoped>\n",
       "    .dataframe tbody tr th:only-of-type {\n",
       "        vertical-align: middle;\n",
       "    }\n",
       "\n",
       "    .dataframe tbody tr th {\n",
       "        vertical-align: top;\n",
       "    }\n",
       "\n",
       "    .dataframe thead th {\n",
       "        text-align: right;\n",
       "    }\n",
       "</style>\n",
       "<table border=\"1\" class=\"dataframe\">\n",
       "  <thead>\n",
       "    <tr style=\"text-align: right;\">\n",
       "      <th></th>\n",
       "      <th>Telefonos</th>\n",
       "    </tr>\n",
       "  </thead>\n",
       "  <tbody>\n",
       "    <tr>\n",
       "      <th>0</th>\n",
       "      <td>1121614420</td>\n",
       "    </tr>\n",
       "    <tr>\n",
       "      <th>1</th>\n",
       "      <td>1121634883</td>\n",
       "    </tr>\n",
       "    <tr>\n",
       "      <th>2</th>\n",
       "      <td>1121656551</td>\n",
       "    </tr>\n",
       "    <tr>\n",
       "      <th>3</th>\n",
       "      <td>1121863666</td>\n",
       "    </tr>\n",
       "    <tr>\n",
       "      <th>4</th>\n",
       "      <td>1121883845</td>\n",
       "    </tr>\n",
       "    <tr>\n",
       "      <th>...</th>\n",
       "      <td>...</td>\n",
       "    </tr>\n",
       "    <tr>\n",
       "      <th>1443</th>\n",
       "      <td>5491167569991</td>\n",
       "    </tr>\n",
       "    <tr>\n",
       "      <th>1444</th>\n",
       "      <td>5491166462247</td>\n",
       "    </tr>\n",
       "    <tr>\n",
       "      <th>1445</th>\n",
       "      <td>5491132007462</td>\n",
       "    </tr>\n",
       "    <tr>\n",
       "      <th>1446</th>\n",
       "      <td>5491125574220</td>\n",
       "    </tr>\n",
       "    <tr>\n",
       "      <th>1447</th>\n",
       "      <td>5491125493295</td>\n",
       "    </tr>\n",
       "  </tbody>\n",
       "</table>\n",
       "<p>1448 rows × 1 columns</p>\n",
       "</div>"
      ],
      "text/plain": [
       "          Telefonos\n",
       "0        1121614420\n",
       "1        1121634883\n",
       "2        1121656551\n",
       "3        1121863666\n",
       "4        1121883845\n",
       "...             ...\n",
       "1443  5491167569991\n",
       "1444  5491166462247\n",
       "1445  5491132007462\n",
       "1446  5491125574220\n",
       "1447  5491125493295\n",
       "\n",
       "[1448 rows x 1 columns]"
      ]
     },
     "execution_count": 65,
     "metadata": {},
     "output_type": "execute_result"
    }
   ],
   "source": [
    "import pandas as pd\n",
    "import re\n",
    "\n",
    "telefonos = input(\"Inserte nombre de columna con los numeros de celular a convertir: \")\n",
    "print(\"Cargando...\")\n",
    "df = pd.read_excel(\"mi pieza - normalizar.xlsx\")\n",
    "df.applymap(str)\n",
    "\n",
    "\n",
    "\n"
   ]
  },
  {
   "cell_type": "code",
   "execution_count": 66,
   "metadata": {},
   "outputs": [],
   "source": [
    "def validar_telefono(telefono_celular):\n",
    "\n",
    "    tel_limpio = re.sub(r\"[^0-9]\",\"\",str(telefono_celular))\n",
    "\n",
    "    if len(tel_limpio) < 10 :\n",
    "         return \"\"\n",
    "    \n",
    "    if len(tel_limpio) > 13 :\n",
    "        tel_limpio = tel_limpio[-10:]\n",
    "\n",
    "    if len(tel_limpio) == 13:\n",
    "        tel_limpio = tel_limpio[3:]\n",
    "\n",
    "    if len(tel_limpio) == 12:\n",
    "        tel_limpio = tel_limpio[2:]\n",
    "    \n",
    "    if len(tel_limpio) == 11:\n",
    "        tel_limpio = tel_limpio[1:]\n",
    "\n",
    "    iguales = 0\n",
    "\n",
    "    for i in range(len(tel_limpio)-1):\n",
    "        if tel_limpio[i] == tel_limpio[i+1]:\n",
    "            iguales += 1\n",
    "    if iguales > 4:\n",
    "        return \"\"\n",
    "\n",
    "    return tel_limpio\n"
   ]
  },
  {
   "cell_type": "code",
   "execution_count": 67,
   "metadata": {},
   "outputs": [],
   "source": [
    "def eliminar_vacios(numero):\n",
    "    if numero == '54' or numero == '549':\n",
    "        return \"\"\n",
    "    else:\n",
    "        return numero"
   ]
  },
  {
   "cell_type": "code",
   "execution_count": 68,
   "metadata": {},
   "outputs": [],
   "source": [
    "df[\"Numero sin 54 ni 9\"] = df[telefonos].apply(validar_telefono) # OJO ACA MODIFICAR\n",
    "df[\"Numero con 54\"] = '54' +  df[\"Numero sin 54 ni 9\"]\n",
    "df[\"Numero con 54 9\"] = '549' +  df[\"Numero sin 54 ni 9\"]\n",
    "df[\"Numero con 54\"] = df[\"Numero con 54\"].apply(eliminar_vacios)\n",
    "df[\"Numero con 54 9\"] = df[\"Numero con 54 9\"].apply(eliminar_vacios)\n",
    "df.to_excel('mi pieza - normalizar_TRANSFORMADO.xlsx')"
   ]
  }
 ],
 "metadata": {
  "kernelspec": {
   "display_name": "Python 3.10.5 64-bit",
   "language": "python",
   "name": "python3"
  },
  "language_info": {
   "codemirror_mode": {
    "name": "ipython",
    "version": 3
   },
   "file_extension": ".py",
   "mimetype": "text/x-python",
   "name": "python",
   "nbconvert_exporter": "python",
   "pygments_lexer": "ipython3",
   "version": "3.10.5"
  },
  "orig_nbformat": 4,
  "vscode": {
   "interpreter": {
    "hash": "aad23bf0e5b4b20d34524d467ccdd87f71c36251c69160a207eefb686c82a563"
   }
  }
 },
 "nbformat": 4,
 "nbformat_minor": 2
}
